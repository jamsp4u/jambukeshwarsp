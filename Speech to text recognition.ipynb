{
 "cells": [
  {
   "cell_type": "code",
   "execution_count": 2,
   "metadata": {},
   "outputs": [
    {
     "name": "stdout",
     "output_type": "stream",
     "text": [
      "Collecting speechrecognition\n",
      "  Downloading SpeechRecognition-3.8.1-py2.py3-none-any.whl (32.8 MB)\n",
      "Installing collected packages: speechrecognition\n",
      "Successfully installed speechrecognition-3.8.1\n"
     ]
    }
   ],
   "source": [
    "!pip install speechrecognition"
   ]
  },
  {
   "cell_type": "code",
   "execution_count": 3,
   "metadata": {},
   "outputs": [
    {
     "name": "stdout",
     "output_type": "stream",
     "text": [
      "Collecting package metadata (current_repodata.json): ...working... done\n",
      "Solving environment: ...working... done\n",
      "\n",
      "## Package Plan ##\n",
      "\n",
      "  environment location: C:\\Users\\JSP\\anaconda3\n",
      "\n",
      "  added / updated specs:\n",
      "    - pyaudio\n",
      "\n",
      "\n",
      "The following packages will be downloaded:\n",
      "\n",
      "    package                    |            build\n",
      "    ---------------------------|-----------------\n",
      "    conda-4.9.1                |   py38haa95532_0         2.9 MB\n",
      "    portaudio-19.6.0           |       he774522_4         202 KB\n",
      "    pyaudio-0.2.11             |   py38he774522_2         206 KB\n",
      "Note: you may need to restart the kernel to use updated packages.\n",
      "    ------------------------------------------------------------\n",
      "                                           Total:         3.3 MB\n",
      "\n",
      "The following NEW packages will be INSTALLED:\n",
      "\n",
      "  portaudio          pkgs/main/win-64::portaudio-19.6.0-he774522_4\n",
      "  pyaudio            pkgs/main/win-64::pyaudio-0.2.11-py38he774522_2\n",
      "\n",
      "The following packages will be UPDATED:\n",
      "\n",
      "  conda                                        4.8.3-py38_0 --> 4.9.1-py38haa95532_0\n",
      "\n",
      "\n",
      "\n",
      "Downloading and Extracting Packages\n",
      "\n",
      "portaudio-19.6.0     | 202 KB    |            |   0% \n",
      "portaudio-19.6.0     | 202 KB    | 7          |   8% \n",
      "portaudio-19.6.0     | 202 KB    | #######9   |  79% \n",
      "portaudio-19.6.0     | 202 KB    | ########## | 100% \n",
      "\n",
      "\n",
      "conda-4.9.1          | 2.9 MB    |            |   0% \n",
      "conda-4.9.1          | 2.9 MB    | 2          |   2% \n",
      "conda-4.9.1          | 2.9 MB    | #2         |  13% \n",
      "conda-4.9.1          | 2.9 MB    | #9         |  20% \n",
      "conda-4.9.1          | 2.9 MB    | ##7        |  27% \n",
      "conda-4.9.1          | 2.9 MB    | ###4       |  34% \n",
      "conda-4.9.1          | 2.9 MB    | ####1      |  42% \n",
      "conda-4.9.1          | 2.9 MB    | ####9      |  50% \n",
      "conda-4.9.1          | 2.9 MB    | #####6     |  56% \n",
      "conda-4.9.1          | 2.9 MB    | ######4    |  65% \n",
      "conda-4.9.1          | 2.9 MB    | #######1   |  71% \n",
      "conda-4.9.1          | 2.9 MB    | #######7   |  77% \n",
      "conda-4.9.1          | 2.9 MB    | ########3  |  83% \n",
      "conda-4.9.1          | 2.9 MB    | ########9  |  89% \n",
      "conda-4.9.1          | 2.9 MB    | #########4 |  95% \n",
      "conda-4.9.1          | 2.9 MB    | ########## | 100% \n",
      "\n",
      "pyaudio-0.2.11       | 206 KB    |            |   0% \n",
      "pyaudio-0.2.11       | 206 KB    | ####6      |  47% \n",
      "pyaudio-0.2.11       | 206 KB    | ########## | 100% \n",
      "Preparing transaction: ...working... done\n",
      "Verifying transaction: ...working... done\n",
      "Executing transaction: ...working... done\n"
     ]
    }
   ],
   "source": [
    "conda install pyaudio"
   ]
  },
  {
   "cell_type": "code",
   "execution_count": 6,
   "metadata": {},
   "outputs": [
    {
     "name": "stdout",
     "output_type": "stream",
     "text": [
      "Requirement already satisfied: pyaudio in c:\\users\\jsp\\anaconda3\\lib\\site-packages (0.2.11)Note: you may need to restart the kernel to use updated packages.\n",
      "\n"
     ]
    }
   ],
   "source": [
    "pip install pyaudio "
   ]
  },
  {
   "cell_type": "code",
   "execution_count": 1,
   "metadata": {},
   "outputs": [
    {
     "name": "stdout",
     "output_type": "stream",
     "text": [
      "Collecting pyttsx3\n",
      "  Downloading pyttsx3-2.90-py3-none-any.whl (39 kB)\n",
      "Requirement already satisfied: pywin32; platform_system == \"Windows\" in c:\\users\\jsp\\anaconda3\\lib\\site-packages (from pyttsx3) (227)\n",
      "Collecting pypiwin32; platform_system == \"Windows\"\n",
      "  Downloading pypiwin32-223-py3-none-any.whl (1.7 kB)\n",
      "Requirement already satisfied: comtypes; platform_system == \"Windows\" in c:\\users\\jsp\\anaconda3\\lib\\site-packages (from pyttsx3) (1.1.7)\n",
      "Installing collected packages: pypiwin32, pyttsx3\n",
      "Successfully installed pypiwin32-223 pyttsx3-2.90\n",
      "Note: you may need to restart the kernel to use updated packages.\n"
     ]
    }
   ],
   "source": [
    "pip install pyttsx3"
   ]
  },
  {
   "cell_type": "code",
   "execution_count": 13,
   "metadata": {},
   "outputs": [
    {
     "name": "stdout",
     "output_type": "stream",
     "text": [
      "Did you say open facebook.com\n"
     ]
    }
   ],
   "source": [
    "import speech_recognition as sr \n",
    "import pyttsx3 \n",
    "import webbrowser as wsr\n",
    "  \n",
    "path=\"C:/Program Files (x86)/Google/Chrome/Application/chrome.exe %s\"\n",
    "# Initialize the recognizer  \n",
    "r = sr.Recognizer()  \n",
    "  \n",
    "# Function to convert text to \n",
    "# speech \n",
    "def SpeakText(command): \n",
    "      \n",
    "    # Initialize the engine \n",
    "    engine = pyttsx3.init() \n",
    "    engine.say(command)  \n",
    "    engine.runAndWait() \n",
    "      \n",
    "      \n",
    "# Loop infinitely for user to \n",
    "# speak \n",
    "  \n",
    "while(1):     \n",
    "      \n",
    "    # Exception handling to handle \n",
    "    # exceptions at the runtime \n",
    "    try: \n",
    "          \n",
    "        # use the microphone as source for input. \n",
    "        with sr.Microphone() as source2: \n",
    "              \n",
    "            # wait for a second to let the recognizer \n",
    "            # adjust the energy threshold based on \n",
    "            # the surrounding noise level  \n",
    "            r.adjust_for_ambient_noise(source2, duration=0.2) \n",
    "              \n",
    "            #listens for the user's input  \n",
    "            audio2 = r.listen(source2) \n",
    "              \n",
    "            # Using ggogle to recognize audio \n",
    "            MyText = r.recognize_google(audio2) \n",
    "            MyText = MyText.lower() \n",
    "  \n",
    "            print(\"Did you say \"+MyText) \n",
    "            SpeakText(MyText)\n",
    "            if 'facebook.com' in MyText:\n",
    "                wsr.get(path).open(MyText)\n",
    "            break\n",
    "              \n",
    "    except sr.RequestError as e: \n",
    "        print(\"Could not request results; {0}\".format(e)) \n",
    "          \n",
    "    except sr.UnknownValueError: \n",
    "        print(\"Sorry can't hear you properly\") "
   ]
  },
  {
   "cell_type": "code",
   "execution_count": 8,
   "metadata": {},
   "outputs": [],
   "source": []
  },
  {
   "cell_type": "code",
   "execution_count": null,
   "metadata": {},
   "outputs": [],
   "source": []
  }
 ],
 "metadata": {
  "kernelspec": {
   "display_name": "Python 3",
   "language": "python",
   "name": "python3"
  },
  "language_info": {
   "codemirror_mode": {
    "name": "ipython",
    "version": 3
   },
   "file_extension": ".py",
   "mimetype": "text/x-python",
   "name": "python",
   "nbconvert_exporter": "python",
   "pygments_lexer": "ipython3",
   "version": "3.8.3"
  }
 },
 "nbformat": 4,
 "nbformat_minor": 4
}
